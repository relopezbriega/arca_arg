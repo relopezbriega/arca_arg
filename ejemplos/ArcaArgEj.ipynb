{
 "cells": [
  {
   "cell_type": "code",
   "execution_count": null,
   "id": "b100bbeb-feed-4fcf-8a2d-63d59aa6e728",
   "metadata": {},
   "outputs": [],
   "source": [
    "# Instalar librería\n",
    "!pip install arca_arg"
   ]
  },
  {
   "cell_type": "code",
   "execution_count": 1,
   "id": "530ab04a-2647-4143-8d4f-c3c392ede9bc",
   "metadata": {},
   "outputs": [],
   "source": [
    "import arca_arg.settings as confg\n",
    "\n",
    "confg.PRIVATE_KEY_PATH = '/home/raul/arca/HOM/raulotest.key'\n",
    "confg.CERT_PATH = '/home/raul/arca/HOM/arcaTestCert.pem'\n",
    "confg.TA_FILES_PATH = '/home/raul/arca/HOM/'"
   ]
  },
  {
   "cell_type": "code",
   "execution_count": 2,
   "id": "660e630f-e008-455c-bcda-4655931133c7",
   "metadata": {},
   "outputs": [],
   "source": [
    "from arca_arg.webservice import ArcaWebService \n",
    "from arca_arg.settings import WSDL_CPE_HOM, WS_LIST,CERT_PATH, PRIVATE_KEY_PATH,TA_FILES_PATH"
   ]
  },
  {
   "cell_type": "code",
   "execution_count": 3,
   "id": "4609669e-8438-4cc1-9a08-68e20d4a6225",
   "metadata": {},
   "outputs": [
    {
     "data": {
      "text/plain": [
       "['ws_sr_constancia_inscripcion',\n",
       " 'ws_sr_padron_a10',\n",
       " 'ws_sr_padron_a13',\n",
       " 'wsfecred',\n",
       " 'wsfe',\n",
       " 'wsfex',\n",
       " 'wslpg',\n",
       " 'wscpe',\n",
       " 'wsapoc',\n",
       " 'wsagr',\n",
       " 'wsrgiva',\n",
       " 'wsct',\n",
       " 'sire-ws',\n",
       " 'wsremharina',\n",
       " 'wsremazucar',\n",
       " 'wsremcarne']"
      ]
     },
     "execution_count": 3,
     "metadata": {},
     "output_type": "execute_result"
    }
   ],
   "source": [
    "WS_LIST"
   ]
  },
  {
   "cell_type": "code",
   "execution_count": 4,
   "id": "4eab31a1-af90-4ad1-b78a-1882916c9a59",
   "metadata": {},
   "outputs": [],
   "source": [
    "# Servicio de Carta de Porte Electrónica\n",
    "arca_service = ArcaWebService(WSDL_CPE_HOM, 'wscpe', enable_logging= False) "
   ]
  },
  {
   "cell_type": "code",
   "execution_count": 5,
   "id": "85150504-3a2e-4f96-a1a4-a3a6455e6d80",
   "metadata": {},
   "outputs": [
    {
     "name": "stdout",
     "output_type": "stream",
     "text": [
      "['dummy', 'consultarProvincias', 'consultarCPEDGPendienteActivacion', 'consultarCPEEmitidasDestinoDGPendientesActivacion', 'consultarCPEAutomotorDG', 'consultarCPEEmisionDestinoDG', 'consultarCPEDuctos', 'consultarTiposEmbalaje', 'consultarUnidadesMedida', 'consultarDerivadosGranarios', 'consultarLocalidadesPorProvincia', 'consultarDomiciliosPorCUIT', 'consultarLocalidadesProductor', 'consultarTiposGrano', 'consultarUltNroOrden', 'informarContingencia', 'informarContingenciaEmisionDestinoDG', 'anularCPE', 'anularCPEEmisionDestinoDG', 'confirmarArriboCPE', 'rechazoCPE', 'descargadoDestinoCPE', 'descargadoDestinoCPEEmisionDestinoDG', 'aceptarEmisionDG', 'rechazarEmisionDG', 'aceptarEmisionDestinoDG', 'rechazarEmisionDestinoDG', 'consultarCPEPorDestino', 'consultarCPEPPendientesDeResolucion', 'cerrarContingenciaCPE', 'cerrarContingenciaCPEEmisionDestinoDG', 'consultarPlantas', 'consultarPlantasDG', 'autorizarCPEFerroviaria', 'consultarCPEFerroviaria', 'consultarCPEFerroviariaDG', 'nuevoDestinoDestinatarioCPEFerroviaria', 'nuevoDestinoDestinatarioCPEFerroviariaDG', 'nuevoDestinoDestinatarioCPEAutomotorDG', 'nuevoDestinoDestinatarioCPEEmisionDestinoDG', 'regresoOrigenCPEFerroviaria', 'desvioCPEFerroviaria', 'desvioCPEFerroviariaDG', 'desvioCPEAutomotorDG', 'confirmacionDefinitivaCPEFerroviaria', 'confirmacionDefinitivaCPEFerroviariaDG', 'confirmacionDefinitivaCPEAutomotorDG', 'confirmacionDefinitivaCPEDuctosDG', 'consultaCPEFerroviariaPorNroOperativo', 'editarCPEFerroviaria', 'editarCPEDGFerroviaria', 'editarCPEDGAutomotor', 'editarCPEDGDuctos', 'editarCPEConfirmadaFerroviaria', 'autorizarCPEFerroviariaDG', 'autorizarCPEAutomotor', 'autorizarCPEAutomotorDG', 'autorizarCPEDuctosDG', 'autorizarCPEEmisionDestinoDG', 'consultarCPEAutomotor', 'nuevoDestinoDestinatarioCPEAutomotor', 'regresoOrigenCPEAutomotor', 'regresoOrigenCPEAutomotorDG', 'regresoOrigenCPEFerroviariaDG', 'regresoOrigenCPEEmisionDestinoDG', 'desvioCPEAutomotor', 'confirmacionDefinitivaCPEAutomotor', 'editarCPEAutomotor', 'editarCPEConfirmadaAutomotor', 'editarCPEDGConfirmadaAutomotor', 'editarCPEDGConfirmadaFerroviaria', 'editarCPEConfirmadaDuctos']\n"
     ]
    }
   ],
   "source": [
    "print(arca_service.list_methods()) # Lista de métodos del servicio inicializado"
   ]
  },
  {
   "cell_type": "code",
   "execution_count": 6,
   "id": "3337445d-97c5-4ed8-8c76-e992cdd53d11",
   "metadata": {},
   "outputs": [
    {
     "name": "stdout",
     "output_type": "stream",
     "text": [
      "aceptarEmisionDestinoDG(auth: ns0:Auth, solicitud: ns0:AceptarEmisionDestinoDGSolicitud) -> respuesta: ns0:CartaPorteRespuesta\n"
     ]
    }
   ],
   "source": [
    "print(arca_service.method_help('aceptarEmisionDestinoDG')) # Ayuda con el método consultarProvincias del servicio web\n"
   ]
  },
  {
   "cell_type": "code",
   "execution_count": 7,
   "id": "def73015-d2bf-4fd4-92d1-f945f50eae4e",
   "metadata": {},
   "outputs": [
    {
     "name": "stdout",
     "output_type": "stream",
     "text": [
      "{\n",
      "    'cuitSolicitante': None,\n",
      "    'cuitDestino': None,\n",
      "    'cartaPorte': 'CartaPorte'\n",
      "}\n"
     ]
    }
   ],
   "source": [
    "print(arca_service.get_type('AceptarEmisionDestinoDGSolicitud'))"
   ]
  },
  {
   "cell_type": "code",
   "execution_count": 8,
   "id": "e3a051dd-5fdd-4baa-973c-80d2dbcff41c",
   "metadata": {},
   "outputs": [],
   "source": [
    "data = { 'auth': {'token': arca_service.token, 'sign': arca_service.sign, 'cuitRepresentada': arca_service.cuit},\n",
    "                  'solicitud': {'cuitSolicitante': arca_service.cuit, 'cuitDestino': '30506792165', \n",
    "                                'cartaPorte': {'tipoCPE': 1, 'sucursal':1, 'nroOrden':1}\n",
    "                               }\n",
    "       }"
   ]
  },
  {
   "cell_type": "code",
   "execution_count": 9,
   "id": "84dfb8e2-ba14-4eb1-b406-3490dccd46ad",
   "metadata": {},
   "outputs": [
    {
     "data": {
      "text/plain": [
       "{\n",
       "    'cabecera': None,\n",
       "    'pdf': None,\n",
       "    'errores': {\n",
       "        'error': [\n",
       "            {\n",
       "                'codigo': '1302',\n",
       "                'descripcion': 'No existe una CPE con los parámetros indicados'\n",
       "            }\n",
       "        ]\n",
       "    },\n",
       "    'metadata': {\n",
       "        'servidor': 'cpea-ws-deployment-58798c9d95-hbkwp',\n",
       "        'fechaHora': datetime.datetime(2025, 1, 28, 19, 25, 57)\n",
       "    }\n",
       "}"
      ]
     },
     "execution_count": 9,
     "metadata": {},
     "output_type": "execute_result"
    }
   ],
   "source": [
    "arca_service.send_request('aceptarEmisionDestinoDG', data)"
   ]
  },
  {
   "cell_type": "code",
   "execution_count": 10,
   "id": "e8b8b545-ef1c-4ecb-80e5-89d2e4fac597",
   "metadata": {},
   "outputs": [],
   "source": [
    "from arca_arg.settings import WSDL_CONSTANCIA_HOM"
   ]
  },
  {
   "cell_type": "code",
   "execution_count": 11,
   "id": "d5128d14-c9fb-4b15-9f0c-b0138209dc32",
   "metadata": {},
   "outputs": [],
   "source": [
    "# Servicio de Constancia de inscripcion\n",
    "arca_service2 = ArcaWebService(WSDL_CONSTANCIA_HOM, 'ws_sr_constancia_inscripcion', enable_logging= False) "
   ]
  },
  {
   "cell_type": "code",
   "execution_count": 12,
   "id": "5ff7d4da-16ba-49ae-bf9f-e16157a3600e",
   "metadata": {},
   "outputs": [
    {
     "name": "stdout",
     "output_type": "stream",
     "text": [
      "['getPersona', 'getPersonaList', 'getPersona_v2', 'dummy', 'getPersonaList_v2']\n"
     ]
    }
   ],
   "source": [
    "print(arca_service2.list_methods()) # Lista de métodos del servicio inicializado"
   ]
  },
  {
   "cell_type": "code",
   "execution_count": 13,
   "id": "e742b112-f6ab-47a7-b28c-f1e461197305",
   "metadata": {},
   "outputs": [
    {
     "name": "stdout",
     "output_type": "stream",
     "text": [
      "getPersonaList_v2(token: xsd:string, sign: xsd:string, cuitRepresentada: xsd:long, idPersona: xsd:long[]) -> personaListReturn: ns0:personaListReturn\n"
     ]
    }
   ],
   "source": [
    "print(arca_service2.method_help('getPersonaList_v2')) "
   ]
  },
  {
   "cell_type": "code",
   "execution_count": 14,
   "id": "276219a0-db47-4fb7-b965-1b70513ca625",
   "metadata": {},
   "outputs": [],
   "source": [
    "data = {'token': arca_service2.token, 'sign': arca_service2.sign, 'cuitRepresentada': arca_service2.cuit,\n",
    "       'idPersona':20224107030\n",
    "       }      "
   ]
  },
  {
   "cell_type": "code",
   "execution_count": 15,
   "id": "2a3856c2-f394-4ba0-914b-f759aedf6b69",
   "metadata": {},
   "outputs": [
    {
     "data": {
      "text/plain": [
       "{\n",
       "    'datosGenerales': {\n",
       "        'apellido': 'FRANCO AGUSTIN',\n",
       "        'caracterizacion': [\n",
       "            {\n",
       "                'descripcionCaracterizacion': 'CUENTA CORRIENTE',\n",
       "                'idCaracterizacion': 82,\n",
       "                'periodo': 20160714\n",
       "            },\n",
       "            {\n",
       "                'descripcionCaracterizacion': 'CATEGORÍA A: MUY BAJO RIESGO',\n",
       "                'idCaracterizacion': 354,\n",
       "                'periodo': 20161025\n",
       "            }\n",
       "        ],\n",
       "        'dependencia': None,\n",
       "        'domicilioFiscal': {\n",
       "            'codPostal': '1828',\n",
       "            'datoAdicional': None,\n",
       "            'descripcionProvincia': 'BUENOS AIRES',\n",
       "            'direccion': 'ALEM 5982',\n",
       "            'idProvincia': 1,\n",
       "            'localidad': 'BANFIELD',\n",
       "            'tipoDatoAdicional': None,\n",
       "            'tipoDomicilio': 'FISCAL'\n",
       "        },\n",
       "        'esSucesion': 'NO',\n",
       "        'estadoClave': 'ACTIVO',\n",
       "        'fechaContratoSocial': None,\n",
       "        'fechaFallecimiento': None,\n",
       "        'idPersona': 20224107030,\n",
       "        'mesCierre': 12,\n",
       "        'nombre': 'SEVERINO',\n",
       "        'razonSocial': None,\n",
       "        'tipoClave': 'CUIT',\n",
       "        'tipoPersona': 'FISICA'\n",
       "    },\n",
       "    'datosMonotributo': None,\n",
       "    'datosRegimenGeneral': {\n",
       "        'actividad': [\n",
       "            {\n",
       "                'descripcionActividad': 'ALQUILER DE EFECTOS PERSONALES Y ENSERES DOMÉSTICOS N.C.P.',\n",
       "                'idActividad': 772099,\n",
       "                'nomenclador': 883,\n",
       "                'orden': 1,\n",
       "                'periodo': 201706\n",
       "            }\n",
       "        ],\n",
       "        'categoriaAutonomo': None,\n",
       "        'impuesto': [\n",
       "            {\n",
       "                'descripcionImpuesto': 'GANANCIAS PERSONAS FISICAS',\n",
       "                'idImpuesto': 11,\n",
       "                'periodo': 200512\n",
       "            },\n",
       "            {\n",
       "                'descripcionImpuesto': 'IVA',\n",
       "                'idImpuesto': 30,\n",
       "                'periodo': 200705\n",
       "            },\n",
       "            {\n",
       "                'descripcionImpuesto': 'APORTES SEG.SOCIAL AUTONOMOS',\n",
       "                'idImpuesto': 308,\n",
       "                'periodo': 200512\n",
       "            }\n",
       "        ],\n",
       "        'regimen': []\n",
       "    },\n",
       "    'errorConstancia': None,\n",
       "    'errorMonotributo': None,\n",
       "    'errorRegimenGeneral': None,\n",
       "    'metadata': {\n",
       "        'fechaHora': datetime.datetime(2025, 1, 28, 19, 26, 26, 459000, tzinfo=<FixedOffset '-03:00'>),\n",
       "        'servidor': 'setiwsh2'\n",
       "    }\n",
       "}"
      ]
     },
     "execution_count": 15,
     "metadata": {},
     "output_type": "execute_result"
    }
   ],
   "source": [
    "arca_service2.send_request('getPersona_v2', data)"
   ]
  },
  {
   "cell_type": "code",
   "execution_count": 16,
   "id": "5f72b7cf-d75b-480a-81c3-f3c5aedf4cef",
   "metadata": {},
   "outputs": [],
   "source": [
    "from arca_arg.settings import WSDL_FEV1_HOM"
   ]
  },
  {
   "cell_type": "code",
   "execution_count": 19,
   "id": "f30ffba5-9e58-4f23-9372-540e47e31692",
   "metadata": {},
   "outputs": [],
   "source": [
    "# Servicio de Factuara Electrónica\n",
    "arca_service = ArcaWebService(WSDL_FEV1_HOM, 'wsfe', enable_logging= False) "
   ]
  },
  {
   "cell_type": "code",
   "execution_count": 20,
   "id": "d3a1938a-b06e-4553-a69e-4ddde9178d33",
   "metadata": {},
   "outputs": [
    {
     "name": "stdout",
     "output_type": "stream",
     "text": [
      "['FECAESolicitar', 'FECompTotXRequest', 'FEDummy', 'FECompUltimoAutorizado', 'FECompConsultar', 'FECAEARegInformativo', 'FECAEASolicitar', 'FECAEASinMovimientoConsultar', 'FECAEASinMovimientoInformar', 'FECAEAConsultar', 'FEParamGetCotizacion', 'FEParamGetTiposTributos', 'FEParamGetTiposMonedas', 'FEParamGetTiposIva', 'FEParamGetTiposOpcional', 'FEParamGetTiposConcepto', 'FEParamGetPtosVenta', 'FEParamGetTiposCbte', 'FEParamGetCondicionIvaReceptor', 'FEParamGetTiposDoc', 'FEParamGetTiposPaises', 'FEParamGetActividades', 'FECAESolicitar', 'FECompTotXRequest', 'FEDummy', 'FECompUltimoAutorizado', 'FECompConsultar', 'FECAEARegInformativo', 'FECAEASolicitar', 'FECAEASinMovimientoConsultar', 'FECAEASinMovimientoInformar', 'FECAEAConsultar', 'FEParamGetCotizacion', 'FEParamGetTiposTributos', 'FEParamGetTiposMonedas', 'FEParamGetTiposIva', 'FEParamGetTiposOpcional', 'FEParamGetTiposConcepto', 'FEParamGetPtosVenta', 'FEParamGetTiposCbte', 'FEParamGetCondicionIvaReceptor', 'FEParamGetTiposDoc', 'FEParamGetTiposPaises', 'FEParamGetActividades']\n"
     ]
    }
   ],
   "source": [
    "print(arca_service.list_methods()) # Lista de métodos del servicio inicializado"
   ]
  },
  {
   "cell_type": "code",
   "execution_count": 21,
   "id": "f4c66fa5-7269-48d4-b673-9352fba4c353",
   "metadata": {},
   "outputs": [
    {
     "name": "stdout",
     "output_type": "stream",
     "text": [
      "FECAESolicitar(Auth: ns0:FEAuthRequest, FeCAEReq: ns0:FECAERequest) -> FECAESolicitarResult: ns0:FECAEResponse\n"
     ]
    }
   ],
   "source": [
    "print(arca_service.method_help('FECAESolicitar')) "
   ]
  },
  {
   "cell_type": "code",
   "execution_count": 22,
   "id": "18171195-2c9d-4b9a-a370-ff2a31bbdd35",
   "metadata": {},
   "outputs": [
    {
     "name": "stdout",
     "output_type": "stream",
     "text": [
      "{\n",
      "    'Token': None,\n",
      "    'Sign': None,\n",
      "    'Cuit': None\n",
      "}\n"
     ]
    }
   ],
   "source": [
    "print(arca_service.get_type('FEAuthRequest'))"
   ]
  },
  {
   "cell_type": "code",
   "execution_count": 23,
   "id": "2d9a9fb4-c6e5-4e37-86c1-1b70d5a609de",
   "metadata": {},
   "outputs": [
    {
     "name": "stdout",
     "output_type": "stream",
     "text": [
      "{\n",
      "    'FeCabReq': 'FECAECabRequest',\n",
      "    'FeDetReq': 'ArrayOfFECAEDetRequest'\n",
      "}\n"
     ]
    }
   ],
   "source": [
    "print(arca_service.get_type('FECAERequest'))"
   ]
  },
  {
   "cell_type": "code",
   "execution_count": 24,
   "id": "ceecb1a1-b176-4698-8768-b8205e11813e",
   "metadata": {},
   "outputs": [
    {
     "name": "stdout",
     "output_type": "stream",
     "text": [
      "{\n",
      "    'Concepto': None,\n",
      "    'DocTipo': None,\n",
      "    'DocNro': None,\n",
      "    'CbteDesde': None,\n",
      "    'CbteHasta': None,\n",
      "    'CbteFch': None,\n",
      "    'ImpTotal': None,\n",
      "    'ImpTotConc': None,\n",
      "    'ImpNeto': None,\n",
      "    'ImpOpEx': None,\n",
      "    'ImpTrib': None,\n",
      "    'ImpIVA': None,\n",
      "    'FchServDesde': None,\n",
      "    'FchServHasta': None,\n",
      "    'FchVtoPago': None,\n",
      "    'MonId': None,\n",
      "    'MonCotiz': None,\n",
      "    'CanMisMonExt': None,\n",
      "    'CondicionIVAReceptorId': None,\n",
      "    'CbtesAsoc': 'ArrayOfCbteAsoc',\n",
      "    'Tributos': 'ArrayOfTributo',\n",
      "    'Iva': 'ArrayOfAlicIva',\n",
      "    'Opcionales': 'ArrayOfOpcional',\n",
      "    'Compradores': 'ArrayOfComprador',\n",
      "    'PeriodoAsoc': 'Periodo',\n",
      "    'Actividades': 'ArrayOfActividad'\n",
      "}\n"
     ]
    }
   ],
   "source": [
    "print(arca_service.get_type('FECAEDetRequest'))"
   ]
  },
  {
   "cell_type": "code",
   "execution_count": 25,
   "id": "7a41fe60-d881-4e0e-b14f-20ff66ad7de5",
   "metadata": {},
   "outputs": [],
   "source": [
    "auth = {'Token': arca_service.token, 'Sign': arca_service.sign, 'Cuit': arca_service.cuit,}"
   ]
  },
  {
   "cell_type": "code",
   "execution_count": 26,
   "id": "526cc945-4fad-42a3-b305-74e383429d9c",
   "metadata": {},
   "outputs": [],
   "source": [
    "cabecera = { 'CantReg': 1, 'PtoVta': 1, 'CbteTipo':1}"
   ]
  },
  {
   "cell_type": "code",
   "execution_count": 27,
   "id": "ea82e251-10c7-462f-a410-db0fa93b485f",
   "metadata": {},
   "outputs": [],
   "source": [
    "detalle = {\n",
    "        'Concepto' : 1,\n",
    "        'DocTipo' : 80,\n",
    "        'DocNro': 27293188217,\n",
    "        'CbteDesde': 5,\n",
    "        'CbteHasta': 5,\n",
    "        'CbteFch': \"20250124\",\n",
    "        'ImpTotal':121,\n",
    "        'ImpTotConc': 0,\n",
    "        'ImpNeto': 100,\n",
    "        'ImpOpEx': 0,\n",
    "        'ImpIVA': 21,\n",
    "        'ImpTrib': 0,\n",
    "        'MonId': \"PES\",\n",
    "        'MonCotiz':1,\n",
    "        'Iva': {'AlicIva': {'Id': 5, 'BaseImp': 100, 'Importe': 21}}\n",
    "}\n",
    "                "
   ]
  },
  {
   "cell_type": "code",
   "execution_count": 28,
   "id": "d7fd1344-2e0b-43fa-b80f-0c53621a9a04",
   "metadata": {},
   "outputs": [],
   "source": [
    "data = {'Auth': auth, \n",
    "        'FeCAEReq': { 'FeCabReq': cabecera, 'FeDetReq': {'FECAEDetRequest': detalle}}\n",
    "       }"
   ]
  },
  {
   "cell_type": "code",
   "execution_count": 29,
   "id": "d4e8cf27-2993-4529-b33b-4ba9d987680d",
   "metadata": {},
   "outputs": [
    {
     "data": {
      "text/plain": [
       "{\n",
       "    'FeCabResp': {\n",
       "        'Cuit': 20293188204,\n",
       "        'PtoVta': 1,\n",
       "        'CbteTipo': 1,\n",
       "        'FchProceso': '20250128192716',\n",
       "        'CantReg': 1,\n",
       "        'Resultado': 'R',\n",
       "        'Reproceso': 'N'\n",
       "    },\n",
       "    'FeDetResp': {\n",
       "        'FECAEDetResponse': [\n",
       "            {\n",
       "                'Concepto': 1,\n",
       "                'DocTipo': 80,\n",
       "                'DocNro': 27293188217,\n",
       "                'CbteDesde': 5,\n",
       "                'CbteHasta': 5,\n",
       "                'CbteFch': '20250124',\n",
       "                'Resultado': 'R',\n",
       "                'Observaciones': None,\n",
       "                'CAE': None,\n",
       "                'CAEFchVto': None\n",
       "            }\n",
       "        ]\n",
       "    },\n",
       "    'Events': None,\n",
       "    'Errors': {\n",
       "        'Err': [\n",
       "            {\n",
       "                'Code': 10016,\n",
       "                'Msg': 'El numero o fecha del comprobante no se corresponde con el proximo a autorizar. Consultar metodo FECompUltimoAutorizado.'\n",
       "            }\n",
       "        ]\n",
       "    }\n",
       "}"
      ]
     },
     "execution_count": 29,
     "metadata": {},
     "output_type": "execute_result"
    }
   ],
   "source": [
    "arca_service.send_request('FECAESolicitar', data)"
   ]
  },
  {
   "cell_type": "code",
   "execution_count": 30,
   "id": "ff0c4459-ab83-454a-aa83-29d82d0c8cd5",
   "metadata": {},
   "outputs": [],
   "source": [
    "WSDL_AGR_HOM = \"https://wswhomo.afip.gov.ar/wsagr/wsagr.asmx?WSDL\""
   ]
  },
  {
   "cell_type": "code",
   "execution_count": 31,
   "id": "06206e83-c70d-4f47-ab1d-f3ea272aa6da",
   "metadata": {},
   "outputs": [],
   "source": [
    "# Servicio de Resproweb\n",
    "arca_service = ArcaWebService(WSDL_AGR_HOM, 'wsagr') "
   ]
  },
  {
   "cell_type": "code",
   "execution_count": 32,
   "id": "b3c340b4-1946-4e74-aacd-8670d4b93457",
   "metadata": {},
   "outputs": [
    {
     "data": {
      "text/plain": [
       "['Consulta',\n",
       " 'ConsultaHistorica',\n",
       " 'ConsultaRectificada',\n",
       " 'ConsultaCondRet',\n",
       " 'ConsultaCodResp',\n",
       " 'ConsultaCantCuit',\n",
       " 'ConsultaObs',\n",
       " 'dummy',\n",
       " 'Consulta',\n",
       " 'ConsultaHistorica',\n",
       " 'ConsultaRectificada',\n",
       " 'ConsultaCondRet',\n",
       " 'ConsultaCodResp',\n",
       " 'ConsultaCantCuit',\n",
       " 'ConsultaObs',\n",
       " 'dummy']"
      ]
     },
     "execution_count": 32,
     "metadata": {},
     "output_type": "execute_result"
    }
   ],
   "source": [
    "arca_service.list_methods()"
   ]
  },
  {
   "cell_type": "code",
   "execution_count": 33,
   "id": "6b6244de-b797-454c-bec5-643a1ed0cc8a",
   "metadata": {},
   "outputs": [
    {
     "data": {
      "text/plain": [
       "'Consulta(Auth: ns0:Auth, Periodo: xsd:string, Cuit: xsd:long[]) -> Respuesta: ns0:ResConsulta'"
      ]
     },
     "execution_count": 33,
     "metadata": {},
     "output_type": "execute_result"
    }
   ],
   "source": [
    "arca_service.method_help('Consulta')"
   ]
  },
  {
   "cell_type": "code",
   "execution_count": 34,
   "id": "252d5c24-2294-425b-9a57-f3d398d1a062",
   "metadata": {},
   "outputs": [
    {
     "data": {
      "text/plain": [
       "{\n",
       "    'Token': None,\n",
       "    'Sign': None,\n",
       "    'Cuit': None\n",
       "}"
      ]
     },
     "execution_count": 34,
     "metadata": {},
     "output_type": "execute_result"
    }
   ],
   "source": [
    "arca_service.get_type('Auth')"
   ]
  },
  {
   "cell_type": "code",
   "execution_count": 35,
   "id": "56f18ac6-a819-464c-93bc-94fb5bb47c7d",
   "metadata": {},
   "outputs": [],
   "source": [
    "data = { 'Auth': {'Token': arca_service.token, 'Sign': arca_service.sign, 'Cuit': arca_service.cuit},\n",
    "        'Periodo': '01/2025',\n",
    "        'Cuit':27293188217\n",
    "       }"
   ]
  },
  {
   "cell_type": "code",
   "execution_count": 36,
   "id": "cbc071af-4995-4795-914c-47b0dfe03fa9",
   "metadata": {},
   "outputs": [
    {
     "name": "stderr",
     "output_type": "stream",
     "text": [
      "INFO:arca_arg.webservice:Llamando al método Consulta con datos: {'Auth': {'Token': 'PD94bWwgdmVyc2lvbj0iMS4wIiBlbmNvZGluZz0iVVRGLTgiIHN0YW5kYWxvbmU9InllcyI/Pgo8c3NvIHZlcnNpb249IjIuMCI+CiAgICA8aWQgc3JjPSJDTj13c2FhaG9tbywgTz1BRklQLCBDPUFSLCBTRVJJQUxOVU1CRVI9Q1VJVCAzMzY5MzQ1MDIzOSIgdW5pcXVlX2lkPSIyMjk2NjMxNjIzIiBnZW5fdGltZT0iMTczODEwMzE4MyIgZXhwX3RpbWU9IjE3MzgxNDY0NDMiLz4KICAgIDxvcGVyYXRpb24gdHlwZT0ibG9naW4iIHZhbHVlPSJncmFudGVkIj4KICAgICAgICA8bG9naW4gZW50aXR5PSIzMzY5MzQ1MDIzOSIgc2VydmljZT0id3NhZ3IiIHVpZD0iU0VSSUFMTlVNQkVSPUNVSVQgMjAyOTMxODgyMDQsIENOPXJhdWxvYXJjYXRlc3QiIGF1dGhtZXRob2Q9ImNtcyIgcmVnbWV0aG9kPSIyMiI+CiAgICAgICAgICAgIDxyZWxhdGlvbnM+CiAgICAgICAgICAgICAgICA8cmVsYXRpb24ga2V5PSIyMDI5MzE4ODIwNCIgcmVsdHlwZT0iNCIvPgogICAgICAgICAgICA8L3JlbGF0aW9ucz4KICAgICAgICA8L2xvZ2luPgogICAgPC9vcGVyYXRpb24+Cjwvc3NvPgo=', 'Sign': 'AoDvauJdefcbh8ltp2QQ/3xe22MpJ26+dgpzQcfOdkEKbh6m1Q7/QzHmDQysRxkGx69vL16bm3aQDrPU5KiHRRuksHTTn3ZD69KcDex6mqUiVy9UJjzHx0/wxSgvHGF/E3GRgfgDQqbOkhAx/Rw9uXLOkV8o1k1oMEVOU3ZBpP4=', 'Cuit': '20293188204'}, 'Periodo': '01/2025', 'Cuit': 27293188217}\n"
     ]
    },
    {
     "data": {
      "text/plain": [
       "{\n",
       "    'Det': {\n",
       "        'DetalleCuits': [\n",
       "            {\n",
       "                'Cuit': 27293188217,\n",
       "                'Pdo': '01/2025',\n",
       "                'Rsp': None,\n",
       "                'RTran': None,\n",
       "                'FTran': None,\n",
       "                'CodObs': None,\n",
       "                'Err': None,\n",
       "                'Evt': None\n",
       "            }\n",
       "        ]\n",
       "    },\n",
       "    'Err': None,\n",
       "    'Evt': None\n",
       "}"
      ]
     },
     "execution_count": 36,
     "metadata": {},
     "output_type": "execute_result"
    }
   ],
   "source": [
    "arca_service.send_request('Consulta', data)"
   ]
  },
  {
   "cell_type": "code",
   "execution_count": 37,
   "id": "519fe603-0059-484e-a8ce-25ac7a9671a0",
   "metadata": {},
   "outputs": [],
   "source": [
    "WSDL_RGIVA_HOM = \"https://fwshomo.afip.gov.ar/wsrgiva/services/RegimenPercepcionIVAService?wsdl\""
   ]
  },
  {
   "cell_type": "code",
   "execution_count": 38,
   "id": "3c928bc0-7771-498d-aa47-96e989d2cc0e",
   "metadata": {},
   "outputs": [],
   "source": [
    "# Servicio percepcion iva\n",
    "arca_service = ArcaWebService(WSDL_RGIVA_HOM, 'wsrgiva', enable_logging= False) "
   ]
  },
  {
   "cell_type": "code",
   "execution_count": 39,
   "id": "e8574ad0-4866-4e11-92c0-d15228769f90",
   "metadata": {},
   "outputs": [
    {
     "data": {
      "text/plain": [
       "['dummy', 'consultarConstanciaPorLote_v2']"
      ]
     },
     "execution_count": 39,
     "metadata": {},
     "output_type": "execute_result"
    }
   ],
   "source": [
    "arca_service.list_methods()"
   ]
  },
  {
   "cell_type": "code",
   "execution_count": 40,
   "id": "79a76d6b-e5b6-4874-9c9f-33ebdb5e7cf9",
   "metadata": {},
   "outputs": [
    {
     "data": {
      "text/plain": [
       "'consultarConstanciaPorLote_v2(authRequest: ns0:AuthRequestType, datosTransaccionArray: ns0:DatosTransaccionArrayType) -> return: ns0:ConstanciaArrayType'"
      ]
     },
     "execution_count": 40,
     "metadata": {},
     "output_type": "execute_result"
    }
   ],
   "source": [
    "arca_service.method_help('consultarConstanciaPorLote_v2')"
   ]
  },
  {
   "cell_type": "code",
   "execution_count": 41,
   "id": "cdf3a13d-7f06-4953-ae16-a62a5d6794e4",
   "metadata": {},
   "outputs": [
    {
     "data": {
      "text/plain": [
       "{\n",
       "    'datosTransaccion': 'DatosTransaccionType'\n",
       "}"
      ]
     },
     "execution_count": 41,
     "metadata": {},
     "output_type": "execute_result"
    }
   ],
   "source": [
    "arca_service.get_type('DatosTransaccionArrayType')"
   ]
  },
  {
   "cell_type": "code",
   "execution_count": 42,
   "id": "51bb5f51-e3f6-4e35-8684-c04a9c384b6a",
   "metadata": {},
   "outputs": [
    {
     "data": {
      "text/plain": [
       "{\n",
       "    'cuitContribuyente': None,\n",
       "    'tipoBienesInvolucrados': None\n",
       "}"
      ]
     },
     "execution_count": 42,
     "metadata": {},
     "output_type": "execute_result"
    }
   ],
   "source": [
    "arca_service.get_type('DatosTransaccionType')"
   ]
  },
  {
   "cell_type": "code",
   "execution_count": 43,
   "id": "7d844c51-f36a-4b76-a0de-94ee1de3ebcf",
   "metadata": {},
   "outputs": [],
   "source": [
    "data = { 'authRequest': {'token': arca_service.token, 'sign': arca_service.sign, 'cuitRepresentada': arca_service.cuit},\n",
    "        'datosTransaccionArray': {\n",
    "            'datosTransaccion': {\n",
    "                'cuitContribuyente': 24219972942,\n",
    "                'tipoBienesInvolucrados':1\n",
    "        }\n",
    "        }\n",
    "       }"
   ]
  },
  {
   "cell_type": "code",
   "execution_count": 44,
   "id": "b2274e6d-5b99-4b0b-ae70-a724bdc31219",
   "metadata": {},
   "outputs": [
    {
     "data": {
      "text/plain": [
       "[{\n",
       "     'fechaConsulta': '28-01-2025',\n",
       "     'idContribuyente': 20293188204,\n",
       "     'descripcionContribuyente': None,\n",
       "     'vigencia': None,\n",
       "     'codigoLeyenda': None,\n",
       "     'descripcionLeyenda': None,\n",
       "     'codigoSeguridad': None,\n",
       "     'codigoError': 511,\n",
       "     'descripcionError': 'La CUIT, CUIL o CDI no pudo ser encontrada. {cuit_representante = [20293188204]}'\n",
       " },\n",
       " {\n",
       "     'fechaConsulta': '28-01-2025',\n",
       "     'idContribuyente': 20293188204,\n",
       "     'descripcionContribuyente': None,\n",
       "     'vigencia': None,\n",
       "     'codigoLeyenda': None,\n",
       "     'descripcionLeyenda': None,\n",
       "     'codigoSeguridad': None,\n",
       "     'codigoError': 511,\n",
       "     'descripcionError': 'La CUIT, CUIL o CDI no pudo ser encontrada. {cuit_representada = [20293188204]}'\n",
       " }]"
      ]
     },
     "execution_count": 44,
     "metadata": {},
     "output_type": "execute_result"
    }
   ],
   "source": [
    "arca_service.send_request('consultarConstanciaPorLote_v2', data)"
   ]
  },
  {
   "cell_type": "code",
   "execution_count": 45,
   "id": "5ec631eb-3250-4124-825c-23a7263ad5b3",
   "metadata": {},
   "outputs": [],
   "source": [
    "WSDL_SIRE_HOM = \"https://ws-aplicativos-reca.homo.afip.gob.ar/sire/ws/v1/c2005/2005?wsdl\""
   ]
  },
  {
   "cell_type": "code",
   "execution_count": 46,
   "id": "84903e42-a371-4950-a591-db84548ccf93",
   "metadata": {},
   "outputs": [],
   "source": [
    "# Servico SIRE\n",
    "arca_service = ArcaWebService(WSDL_SIRE_HOM, 'sire-ws', enable_logging= False) "
   ]
  },
  {
   "cell_type": "code",
   "execution_count": 47,
   "id": "16d57d26-57bb-43a0-bfad-1ed2923cf515",
   "metadata": {},
   "outputs": [
    {
     "data": {
      "text/plain": [
       "['dummy', 'emitir', 'anular']"
      ]
     },
     "execution_count": 47,
     "metadata": {},
     "output_type": "execute_result"
    }
   ],
   "source": [
    "arca_service.list_methods()"
   ]
  },
  {
   "cell_type": "code",
   "execution_count": 48,
   "id": "c59f2ae0-5969-4eb3-aa1f-a810b411dd42",
   "metadata": {},
   "outputs": [
    {
     "data": {
      "text/plain": [
       "'emitir(token: xsd:string, sign: xsd:string, cuitAgente: xsd:long, certificado: ns0:certificado) -> certificadoNro: xsd:string, codigoSeguridad: xsd:string'"
      ]
     },
     "execution_count": 48,
     "metadata": {},
     "output_type": "execute_result"
    }
   ],
   "source": [
    "arca_service.method_help('emitir')"
   ]
  },
  {
   "cell_type": "code",
   "execution_count": 49,
   "id": "d9c7bd95-14ad-4334-9222-c87238cd61f7",
   "metadata": {},
   "outputs": [
    {
     "data": {
      "text/plain": [
       "{\n",
       "    'version': None,\n",
       "    'codigoTrazabilidad': None,\n",
       "    'impuesto': None,\n",
       "    'regimen': None,\n",
       "    'fechaRetencion': None,\n",
       "    'condicion': None,\n",
       "    'imposibilidadRetencion': None,\n",
       "    'motivoNoRetencion': None,\n",
       "    'importeRetencion': None,\n",
       "    'importeBaseCalculo': None,\n",
       "    'regimenExclusion': None,\n",
       "    'porcentajeExclusion': None,\n",
       "    'fechaPublicacion': None,\n",
       "    'tipoComprobante': None,\n",
       "    'fechaComprobante': None,\n",
       "    'numeroComprobante': None,\n",
       "    'coe': None,\n",
       "    'coeOriginal': None,\n",
       "    'cae': None,\n",
       "    'importeComprobante': None,\n",
       "    'motivoEmisionNotaCredito': None,\n",
       "    'cuitRetenido': None,\n",
       "    'numeroCertificadoOriginal': None,\n",
       "    'fechaRetencionCertificadoOriginal': None,\n",
       "    'importeCertificadoOriginal': None,\n",
       "    'motivoAnulacion': None\n",
       "}"
      ]
     },
     "execution_count": 49,
     "metadata": {},
     "output_type": "execute_result"
    }
   ],
   "source": [
    "arca_service.get_type('certificado')"
   ]
  },
  {
   "cell_type": "code",
   "execution_count": 50,
   "id": "43a1ed21-01cb-4a9c-a399-13dc62d740e8",
   "metadata": {},
   "outputs": [],
   "source": [
    "data = { 'token': arca_service.token, 'sign': arca_service.sign, 'cuitAgente': arca_service.cuit,\n",
    "        'certificado': {\n",
    "            'version': 1,\n",
    "            'impuesto': 5,\n",
    "            'regimen':2,\n",
    "            'fechaRetencion': \"2025-01-24T15:30:45.123-03:00\",\n",
    "            'importeRetencion': 100,\n",
    "            'importeBaseCalculo': 1000,\n",
    "            'regimenExclusion': False,\n",
    "            'imposibilidadRetencion': False,\n",
    "            'tipoComprobante': 1,\n",
    "            'fechaComprobante': '2025-01-20T15:30:45.123-03:00',\n",
    "            'importeComprobante': 10000,\n",
    "            'cuitRetenido':24219972942,\n",
    "        }\n",
    "       }"
   ]
  },
  {
   "cell_type": "code",
   "execution_count": 51,
   "id": "2cc7838a-11b9-46bf-8ac6-433b91ebeed2",
   "metadata": {},
   "outputs": [
    {
     "name": "stdout",
     "output_type": "stream",
     "text": [
      "<soap-env:Envelope xmlns:soap-env=\"http://schemas.xmlsoap.org/soap/envelope/\">\n",
      "  <soap-env:Body>\n",
      "    <ns0:dummy xmlns:ns0=\"http://www.afip.gob.ar/sire/c2005/\"/>\n",
      "  </soap-env:Body>\n",
      "</soap-env:Envelope>\n",
      "\n"
     ]
    }
   ],
   "source": [
    "print(arca_service.create_message('dummy', {}))"
   ]
  },
  {
   "cell_type": "code",
   "execution_count": 52,
   "id": "716a87a9-f2db-40e3-b6ee-ad79091d67b6",
   "metadata": {},
   "outputs": [
    {
     "data": {
      "text/plain": [
       "{\n",
       "    'header': {\n",
       "        'HeaderInfo': {\n",
       "            'ambiente': '\\n                homologacion - 207\\n              ',\n",
       "            'fecha': datetime.datetime(2025, 1, 28, 19, 29, 54, 289000, tzinfo=<FixedOffset '-03:00'>),\n",
       "            'vCore': '\\n                2020.4\\n              ',\n",
       "            'v2005': '\\n                2020.7\\n              '\n",
       "        }\n",
       "    },\n",
       "    'body': {\n",
       "        'appserver': 'OK',\n",
       "        'authserver': 'OK',\n",
       "        'dbserver': 'OK'\n",
       "    }\n",
       "}"
      ]
     },
     "execution_count": 52,
     "metadata": {},
     "output_type": "execute_result"
    }
   ],
   "source": [
    "arca_service.send_request('dummy', {})"
   ]
  },
  {
   "cell_type": "code",
   "execution_count": 53,
   "id": "afbbfc78-7d1f-4b56-9d1a-011cfac34e1c",
   "metadata": {},
   "outputs": [],
   "source": [
    "WSDL_REMHARINA_HOM =\"https://fwshomo.afip.gov.ar/wsremharina/RemHarinaService?wsdl\""
   ]
  },
  {
   "cell_type": "code",
   "execution_count": 54,
   "id": "650f4c99-56d0-46ad-ba82-f5b828a4de13",
   "metadata": {},
   "outputs": [],
   "source": [
    "# Servico Remito electrónico Harina\n",
    "arca_service = ArcaWebService(WSDL_REMHARINA_HOM, 'wsremharina', enable_logging= False) "
   ]
  },
  {
   "cell_type": "code",
   "execution_count": 55,
   "id": "37ba4760-8edd-49b4-b64f-2622f8bd1081",
   "metadata": {},
   "outputs": [
    {
     "data": {
      "text/plain": [
       "['dummy',\n",
       " 'generarRemito',\n",
       " 'emitirRemito',\n",
       " 'autorizarRemito',\n",
       " 'registrarRecepcion',\n",
       " 'modificarViaje',\n",
       " 'informarContingencia',\n",
       " 'consultarRemito',\n",
       " 'consultarUltimoRemitoEmitido',\n",
       " 'consultarTiposComprobante',\n",
       " 'consultarTiposEstado',\n",
       " 'consultarTiposContingencia',\n",
       " 'consultarCodigosDomicilio',\n",
       " 'consultarPuntosEmision',\n",
       " 'consultarTiposMercaderia',\n",
       " 'anularRemito',\n",
       " 'consultarPaises',\n",
       " 'consultarAduanas',\n",
       " 'consultarProvincias',\n",
       " 'consultarUnidadesVenta',\n",
       " 'consultarTiposEmbalaje',\n",
       " 'consultarRemitosEmisor',\n",
       " 'consultarRemitosAutorizador',\n",
       " 'consultarRemitosReceptor',\n",
       " 'consultarEstadosRemito',\n",
       " 'registrarReingreso',\n",
       " 'registrarRedestino',\n",
       " 'registrarExportacion',\n",
       " 'consultarReceptoresValidos']"
      ]
     },
     "execution_count": 55,
     "metadata": {},
     "output_type": "execute_result"
    }
   ],
   "source": [
    "arca_service.list_methods()"
   ]
  },
  {
   "cell_type": "code",
   "execution_count": 56,
   "id": "24e621c2-7d6f-4594-bbe2-4dd50a684260",
   "metadata": {},
   "outputs": [
    {
     "data": {
      "text/plain": [
       "'consultarProvincias(authRequest: ns0:AuthRequestType) -> consultarProvinciasReturn: ns0:ConsultarProvinciasReturnType'"
      ]
     },
     "execution_count": 56,
     "metadata": {},
     "output_type": "execute_result"
    }
   ],
   "source": [
    "arca_service.method_help('consultarProvincias')"
   ]
  },
  {
   "cell_type": "code",
   "execution_count": 57,
   "id": "4189ee6e-104d-4502-9134-c7a25b660832",
   "metadata": {},
   "outputs": [],
   "source": [
    "data = { 'authRequest': {'token': arca_service.token, 'sign': arca_service.sign, 'cuitRepresentada': arca_service.cuit,}}"
   ]
  },
  {
   "cell_type": "code",
   "execution_count": 58,
   "id": "ea500e82-f9e6-470f-8b90-5640f4d21da2",
   "metadata": {},
   "outputs": [
    {
     "data": {
      "text/plain": [
       "{\n",
       "    'arrayProvincias': {\n",
       "        'codigoDescripcionString': [\n",
       "            {\n",
       "                'codigo': '1',\n",
       "                'descripcion': 'BUENOS AIRES'\n",
       "            },\n",
       "            {\n",
       "                'codigo': '2',\n",
       "                'descripcion': 'CATAMARCA'\n",
       "            },\n",
       "            {\n",
       "                'codigo': '16',\n",
       "                'descripcion': 'CHACO'\n",
       "            },\n",
       "            {\n",
       "                'codigo': '17',\n",
       "                'descripcion': 'CHUBUT'\n",
       "            },\n",
       "            {\n",
       "                'codigo': '0',\n",
       "                'descripcion': 'CIUDAD AUTONOMA BUENOS AIRES'\n",
       "            },\n",
       "            {\n",
       "                'codigo': '3',\n",
       "                'descripcion': 'CORDOBA'\n",
       "            },\n",
       "            {\n",
       "                'codigo': '4',\n",
       "                'descripcion': 'CORRIENTES'\n",
       "            },\n",
       "            {\n",
       "                'codigo': '5',\n",
       "                'descripcion': 'ENTRE RIOS'\n",
       "            },\n",
       "            {\n",
       "                'codigo': '18',\n",
       "                'descripcion': 'FORMOSA'\n",
       "            },\n",
       "            {\n",
       "                'codigo': '6',\n",
       "                'descripcion': 'JUJUY'\n",
       "            },\n",
       "            {\n",
       "                'codigo': '21',\n",
       "                'descripcion': 'LA PAMPA'\n",
       "            },\n",
       "            {\n",
       "                'codigo': '8',\n",
       "                'descripcion': 'LA RIOJA'\n",
       "            },\n",
       "            {\n",
       "                'codigo': '7',\n",
       "                'descripcion': 'MENDOZA'\n",
       "            },\n",
       "            {\n",
       "                'codigo': '19',\n",
       "                'descripcion': 'MISIONES'\n",
       "            },\n",
       "            {\n",
       "                'codigo': '20',\n",
       "                'descripcion': 'NEUQUEN'\n",
       "            },\n",
       "            {\n",
       "                'codigo': '22',\n",
       "                'descripcion': 'RIO NEGRO'\n",
       "            },\n",
       "            {\n",
       "                'codigo': '9',\n",
       "                'descripcion': 'SALTA'\n",
       "            },\n",
       "            {\n",
       "                'codigo': '10',\n",
       "                'descripcion': 'SAN JUAN'\n",
       "            },\n",
       "            {\n",
       "                'codigo': '11',\n",
       "                'descripcion': 'SAN LUIS'\n",
       "            },\n",
       "            {\n",
       "                'codigo': '23',\n",
       "                'descripcion': 'SANTA CRUZ'\n",
       "            },\n",
       "            {\n",
       "                'codigo': '12',\n",
       "                'descripcion': 'SANTA FE'\n",
       "            },\n",
       "            {\n",
       "                'codigo': '13',\n",
       "                'descripcion': 'SANTIAGO DEL ESTERO'\n",
       "            },\n",
       "            {\n",
       "                'codigo': '24',\n",
       "                'descripcion': 'TIERRA DEL FUEGO'\n",
       "            },\n",
       "            {\n",
       "                'codigo': '14',\n",
       "                'descripcion': 'TUCUMAN'\n",
       "            }\n",
       "        ]\n",
       "    },\n",
       "    'arrayErroresFormato': None,\n",
       "    'arrayErrores': None\n",
       "}"
      ]
     },
     "execution_count": 58,
     "metadata": {},
     "output_type": "execute_result"
    }
   ],
   "source": [
    "arca_service.send_request('consultarProvincias', data)"
   ]
  },
  {
   "cell_type": "code",
   "execution_count": null,
   "id": "d6e85464-1dc1-4bef-8b99-ea49d8ec5e70",
   "metadata": {},
   "outputs": [],
   "source": []
  }
 ],
 "metadata": {
  "kernelspec": {
   "display_name": "Python 3 (ipykernel)",
   "language": "python",
   "name": "python3"
  },
  "language_info": {
   "codemirror_mode": {
    "name": "ipython",
    "version": 3
   },
   "file_extension": ".py",
   "mimetype": "text/x-python",
   "name": "python",
   "nbconvert_exporter": "python",
   "pygments_lexer": "ipython3",
   "version": "3.12.7"
  }
 },
 "nbformat": 4,
 "nbformat_minor": 5
}
